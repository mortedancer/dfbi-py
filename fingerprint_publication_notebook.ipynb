{
 "cells": [
  {
   "cell_type": "markdown",
   "metadata": {
    "collapsed": false,
    "pycharm": {
     "name": "#%% md\n"
    }
   },
   "source": [
    "# DFBI Publication Support Notebook\n",
    "Build 41x41 / 34x34 signatures and compare texts."
   ]
  },
  {
   "cell_type": "code",
   "execution_count": null,
   "metadata": {
    "collapsed": false,
    "pycharm": {
     "name": "#%%\n"
    }
   },
   "outputs": [],
   "source": [
    "from dfbi import fingerprints as fp\n",
    "from dfbi.alphabet import EN34\n",
    "M = fp.fingerprint('Hello world!', alphabet=EN34, horizon=3,\n",
    "                   decay=('morlet', {'omega': 2.8, 'sigma': 1.0}),\n",
    "                   phase=('theta', 0.25))\n",
    "M.shape, M.dtype"
   ]
  },
  {
   "cell_type": "markdown",
   "metadata": {
    "collapsed": false,
    "pycharm": {
     "name": "#%% md\n"
    }
   },
   "source": [
    "### CLI: wave decays with phase\n",
    "```bash\n",
    "dfbi-cli fingerprint samples/pushkin.txt \\\n",
    "  --alphabet ru \\\n",
    "  --horizon 5 \\\n",
    "  --decay \"('morlet', {'omega': 3.0, 'sigma': 1.2})\" \\\n",
    "  --phase \"('entropy', 0.0, 3.1415)\" \\\n",
    "  --mask letters\n",
    "\n",
    "dfbi-cli fingerprint samples/austen.txt \\\n",
    "  --alphabet en \\\n",
    "  --bank \"mexican:sigma=1.3,scale=2.0\" \\\n",
    "  --phase \"('theta', 0.5)\" \\\n",
    "  --aggregate sum_abs\n",
    "```\n"
   ]
  },
  {
   "cell_type": "markdown",
   "id": "7df84af9",
   "metadata": {
    "collapsed": false,
    "pycharm": {
     "name": "#%% md\n"
    }
   },
   "source": [
    "### CLI: wave decays with phase\n",
    "```bash\n",
    "dfbi-cli fingerprint samples/pushkin.txt \\\n",
    "  --alphabet ru \\\n",
    "  --horizon 5 \\\n",
    "  --decay \"('morlet', {'omega': 3.0, 'sigma': 1.2})\" \\\n",
    "  --phase \"('entropy', 0.0, 3.1415)\" \\\n",
    "  --mask letters\n",
    "\n",
    "dfbi-cli fingerprint samples/austen.txt \\\n",
    "  --alphabet en \\\n",
    "  --bank \"mexican:sigma=1.3,scale=2.0\" \\\n",
    "  --phase \"('theta', 0.5)\" \\\n",
    "  --aggregate sum_abs\n",
    "```\n"
   ]
  }
 ],
 "metadata": {
  "kernelspec": {
   "display_name": "Python 3",
   "language": "python",
   "name": "python3"
  }
 },
 "nbformat": 4,
 "nbformat_minor": 5
}
